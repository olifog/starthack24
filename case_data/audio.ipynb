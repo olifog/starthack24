{
 "cells": [
  {
   "cell_type": "code",
   "execution_count": 1,
   "id": "d8a8423b-0d14-4a7c-8438-4e1fc703d901",
   "metadata": {},
   "outputs": [],
   "source": [
    "import pandas as pd\n",
    "import requests\n",
    "from time import sleep\n",
    "from tqdm import tqdm "
   ]
  },
  {
   "cell_type": "code",
   "execution_count": 2,
   "id": "f5bb2a07-961b-4f15-a3f2-ed799a26497c",
   "metadata": {},
   "outputs": [],
   "source": [
    "df = pd.read_excel(\"st-gallen-data.xlsx\", sheet_name=\"data\")"
   ]
  },
  {
   "cell_type": "code",
   "execution_count": 3,
   "id": "f11b3dfc-d82c-4e9e-b2cf-ac2b788c3517",
   "metadata": {},
   "outputs": [],
   "source": [
    "df = df.dropna()"
   ]
  },
  {
   "cell_type": "code",
   "execution_count": 4,
   "id": "827aca39-7aec-493a-8491-946408949023",
   "metadata": {},
   "outputs": [
    {
     "name": "stderr",
     "output_type": "stream",
     "text": [
      "100%|█████████████████████████████████████████████████████████████████████████████████████████████████████████████████████████████████████████████████████████████████████████████| 3507/3507 [46:53<00:00,  1.25it/s]\n"
     ]
    }
   ],
   "source": [
    "from os.path import exists, join\n",
    "\n",
    "for i, row in tqdm(df.iterrows(), total=len(df)):\n",
    "    row = row.to_dict()\n",
    "    path_to_data_files, voice_url = row[\"path_to_data_files\"], row[\"voice_url\"]\n",
    "    voice_file_path = join(path_to_data_files, \"audio.mp3\")\n",
    "    if not exists(voice_file_path):\n",
    "        with open(voice_file_path, \"wb\") as f:\n",
    "            response = requests.get(voice_url)\n",
    "            f.write(response.content)\n",
    "            sleep(2)"
   ]
  },
  {
   "cell_type": "code",
   "execution_count": null,
   "id": "9eb9ff65-c4fb-4a2c-b81f-b580c0c68fc8",
   "metadata": {},
   "outputs": [],
   "source": []
  }
 ],
 "metadata": {
  "kernelspec": {
   "display_name": "Python 3 (ipykernel)",
   "language": "python",
   "name": "python3"
  },
  "language_info": {
   "codemirror_mode": {
    "name": "ipython",
    "version": 3
   },
   "file_extension": ".py",
   "mimetype": "text/x-python",
   "name": "python",
   "nbconvert_exporter": "python",
   "pygments_lexer": "ipython3",
   "version": "3.10.9"
  }
 },
 "nbformat": 4,
 "nbformat_minor": 5
}
